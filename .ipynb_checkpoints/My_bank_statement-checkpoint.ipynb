{
 "cells": [
  {
   "cell_type": "code",
   "execution_count": 1,
   "id": "2ad0e326",
   "metadata": {},
   "outputs": [],
   "source": [
    "import tqdm \n",
    "import pandas as pd\n",
    "import numpy as np\n",
    "import matplotlib.pyplot as plt\n",
    "import seaborn as sns \n"
   ]
  },
  {
   "cell_type": "code",
   "execution_count": 2,
   "id": "9c0ea71e",
   "metadata": {},
   "outputs": [],
   "source": [
    "path = r'C:\\Users\\Ashwani Raj\\Desktop\\__DOCS__\\06_IDBI_STATEMENT.xlsx'"
   ]
  },
  {
   "cell_type": "code",
   "execution_count": 3,
   "id": "7f20f1bb",
   "metadata": {},
   "outputs": [],
   "source": [
    "df = pd.read_excel(path)"
   ]
  },
  {
   "cell_type": "code",
   "execution_count": 4,
   "id": "8b7043d0",
   "metadata": {},
   "outputs": [
    {
     "data": {
      "text/html": [
       "<div>\n",
       "<style scoped>\n",
       "    .dataframe tbody tr th:only-of-type {\n",
       "        vertical-align: middle;\n",
       "    }\n",
       "\n",
       "    .dataframe tbody tr th {\n",
       "        vertical-align: top;\n",
       "    }\n",
       "\n",
       "    .dataframe thead th {\n",
       "        text-align: right;\n",
       "    }\n",
       "</style>\n",
       "<table border=\"1\" class=\"dataframe\">\n",
       "  <thead>\n",
       "    <tr style=\"text-align: right;\">\n",
       "      <th></th>\n",
       "      <th>Date</th>\n",
       "      <th>Description</th>\n",
       "      <th>Amount</th>\n",
       "      <th>Type</th>\n",
       "    </tr>\n",
       "  </thead>\n",
       "  <tbody>\n",
       "    <tr>\n",
       "      <th>0</th>\n",
       "      <td>2023-02-04</td>\n",
       "      <td>UPI/303595961758/Aparajita  Kumari</td>\n",
       "      <td>500.0</td>\n",
       "      <td>Dr</td>\n",
       "    </tr>\n",
       "    <tr>\n",
       "      <th>1</th>\n",
       "      <td>2023-02-04</td>\n",
       "      <td>UPI/303568251357/ASHWANI RAJ</td>\n",
       "      <td>500.0</td>\n",
       "      <td>Dr</td>\n",
       "    </tr>\n",
       "    <tr>\n",
       "      <th>2</th>\n",
       "      <td>2023-02-01</td>\n",
       "      <td>UPI/303275341989/ASHWANI RAJ</td>\n",
       "      <td>200.0</td>\n",
       "      <td>Dr</td>\n",
       "    </tr>\n",
       "    <tr>\n",
       "      <th>3</th>\n",
       "      <td>2023-02-01</td>\n",
       "      <td>ACHECS-HCL 4th IntDiv2-1002421</td>\n",
       "      <td>120.0</td>\n",
       "      <td>Cr</td>\n",
       "    </tr>\n",
       "    <tr>\n",
       "      <th>4</th>\n",
       "      <td>2023-01-31</td>\n",
       "      <td>UPI/303180199455/ASHWANI RAJ</td>\n",
       "      <td>200.0</td>\n",
       "      <td>Dr</td>\n",
       "    </tr>\n",
       "  </tbody>\n",
       "</table>\n",
       "</div>"
      ],
      "text/plain": [
       "        Date                         Description  Amount Type\n",
       "0 2023-02-04  UPI/303595961758/Aparajita  Kumari   500.0   Dr\n",
       "1 2023-02-04        UPI/303568251357/ASHWANI RAJ   500.0   Dr\n",
       "2 2023-02-01        UPI/303275341989/ASHWANI RAJ   200.0   Dr\n",
       "3 2023-02-01      ACHECS-HCL 4th IntDiv2-1002421   120.0   Cr\n",
       "4 2023-01-31        UPI/303180199455/ASHWANI RAJ   200.0   Dr"
      ]
     },
     "execution_count": 4,
     "metadata": {},
     "output_type": "execute_result"
    }
   ],
   "source": [
    "df.head()"
   ]
  },
  {
   "cell_type": "code",
   "execution_count": 5,
   "id": "8feee5b3",
   "metadata": {},
   "outputs": [
    {
     "data": {
      "text/plain": [
       "Index(['Date', 'Description', 'Amount', 'Type'], dtype='object')"
      ]
     },
     "execution_count": 5,
     "metadata": {},
     "output_type": "execute_result"
    }
   ],
   "source": [
    "df.columns"
   ]
  },
  {
   "cell_type": "code",
   "execution_count": 6,
   "id": "99becfcd",
   "metadata": {},
   "outputs": [
    {
     "data": {
      "text/plain": [
       "Date           datetime64[ns]\n",
       "Description            object\n",
       "Amount                float64\n",
       "Type                   object\n",
       "dtype: object"
      ]
     },
     "execution_count": 6,
     "metadata": {},
     "output_type": "execute_result"
    }
   ],
   "source": [
    "df.dtypes"
   ]
  },
  {
   "cell_type": "code",
   "execution_count": 7,
   "id": "2c19d7d7",
   "metadata": {},
   "outputs": [
    {
     "data": {
      "text/html": [
       "<div>\n",
       "<style scoped>\n",
       "    .dataframe tbody tr th:only-of-type {\n",
       "        vertical-align: middle;\n",
       "    }\n",
       "\n",
       "    .dataframe tbody tr th {\n",
       "        vertical-align: top;\n",
       "    }\n",
       "\n",
       "    .dataframe thead th {\n",
       "        text-align: right;\n",
       "    }\n",
       "</style>\n",
       "<table border=\"1\" class=\"dataframe\">\n",
       "  <thead>\n",
       "    <tr style=\"text-align: right;\">\n",
       "      <th></th>\n",
       "      <th>Amount</th>\n",
       "    </tr>\n",
       "  </thead>\n",
       "  <tbody>\n",
       "    <tr>\n",
       "      <th>count</th>\n",
       "      <td>536.000000</td>\n",
       "    </tr>\n",
       "    <tr>\n",
       "      <th>mean</th>\n",
       "      <td>986.107034</td>\n",
       "    </tr>\n",
       "    <tr>\n",
       "      <th>std</th>\n",
       "      <td>3409.229453</td>\n",
       "    </tr>\n",
       "    <tr>\n",
       "      <th>min</th>\n",
       "      <td>1.000000</td>\n",
       "    </tr>\n",
       "    <tr>\n",
       "      <th>25%</th>\n",
       "      <td>50.000000</td>\n",
       "    </tr>\n",
       "    <tr>\n",
       "      <th>50%</th>\n",
       "      <td>200.000000</td>\n",
       "    </tr>\n",
       "    <tr>\n",
       "      <th>75%</th>\n",
       "      <td>500.000000</td>\n",
       "    </tr>\n",
       "    <tr>\n",
       "      <th>max</th>\n",
       "      <td>50000.000000</td>\n",
       "    </tr>\n",
       "  </tbody>\n",
       "</table>\n",
       "</div>"
      ],
      "text/plain": [
       "             Amount\n",
       "count    536.000000\n",
       "mean     986.107034\n",
       "std     3409.229453\n",
       "min        1.000000\n",
       "25%       50.000000\n",
       "50%      200.000000\n",
       "75%      500.000000\n",
       "max    50000.000000"
      ]
     },
     "execution_count": 7,
     "metadata": {},
     "output_type": "execute_result"
    }
   ],
   "source": [
    "df.describe()"
   ]
  },
  {
   "cell_type": "code",
   "execution_count": 8,
   "id": "f1c2ae80",
   "metadata": {},
   "outputs": [
    {
     "data": {
      "text/plain": [
       "Dr    392\n",
       "Cr    144\n",
       "Name: Type, dtype: int64"
      ]
     },
     "execution_count": 8,
     "metadata": {},
     "output_type": "execute_result"
    }
   ],
   "source": [
    "df['Type'].value_counts()"
   ]
  },
  {
   "cell_type": "code",
   "execution_count": 9,
   "id": "e239460d",
   "metadata": {},
   "outputs": [
    {
     "data": {
      "image/png": "[encoded data removed]",
      "text/plain": [
       "<Figure size 432x288 with 1 Axes>"
      ]
     },
     "metadata": {
      "needs_background": "light"
     },
     "output_type": "display_data"
    }
   ],
   "source": [
    "# Create a bar chart of the casual and member values\n",
    "df['Type'].value_counts().plot(kind='bar')\n",
    "\n",
    "# Add labels and title\n",
    "plt.xlabel('Debit Or Credit')\n",
    "plt.ylabel('Count')\n",
    "plt.title('Count of Debit Or Credit')\n",
    "\n",
    "# Show the chart\n",
    "plt.show()\n"
   ]
  },
  {
   "cell_type": "code",
   "execution_count": 10,
   "id": "3940c982",
   "metadata": {},
   "outputs": [
    {
     "data": {
      "text/html": [
       "<div>\n",
       "<style scoped>\n",
       "    .dataframe tbody tr th:only-of-type {\n",
       "        vertical-align: middle;\n",
       "    }\n",
       "\n",
       "    .dataframe tbody tr th {\n",
       "        vertical-align: top;\n",
       "    }\n",
       "\n",
       "    .dataframe thead th {\n",
       "        text-align: right;\n",
       "    }\n",
       "</style>\n",
       "<table border=\"1\" class=\"dataframe\">\n",
       "  <thead>\n",
       "    <tr style=\"text-align: right;\">\n",
       "      <th></th>\n",
       "      <th>Date</th>\n",
       "      <th>Description</th>\n",
       "      <th>Amount</th>\n",
       "      <th>Type</th>\n",
       "    </tr>\n",
       "  </thead>\n",
       "  <tbody>\n",
       "    <tr>\n",
       "      <th>0</th>\n",
       "      <td>2023-02-04</td>\n",
       "      <td>UPI/303595961758/Aparajita  Kumari</td>\n",
       "      <td>500.00</td>\n",
       "      <td>Dr</td>\n",
       "    </tr>\n",
       "    <tr>\n",
       "      <th>1</th>\n",
       "      <td>2023-02-04</td>\n",
       "      <td>UPI/303568251357/ASHWANI RAJ</td>\n",
       "      <td>500.00</td>\n",
       "      <td>Dr</td>\n",
       "    </tr>\n",
       "    <tr>\n",
       "      <th>2</th>\n",
       "      <td>2023-02-01</td>\n",
       "      <td>UPI/303275341989/ASHWANI RAJ</td>\n",
       "      <td>200.00</td>\n",
       "      <td>Dr</td>\n",
       "    </tr>\n",
       "    <tr>\n",
       "      <th>3</th>\n",
       "      <td>2023-02-01</td>\n",
       "      <td>ACHECS-HCL 4th IntDiv2-1002421</td>\n",
       "      <td>120.00</td>\n",
       "      <td>Cr</td>\n",
       "    </tr>\n",
       "    <tr>\n",
       "      <th>4</th>\n",
       "      <td>2023-01-31</td>\n",
       "      <td>UPI/303180199455/ASHWANI RAJ</td>\n",
       "      <td>200.00</td>\n",
       "      <td>Dr</td>\n",
       "    </tr>\n",
       "    <tr>\n",
       "      <th>...</th>\n",
       "      <td>...</td>\n",
       "      <td>...</td>\n",
       "      <td>...</td>\n",
       "      <td>...</td>\n",
       "    </tr>\n",
       "    <tr>\n",
       "      <th>527</th>\n",
       "      <td>2021-12-09</td>\n",
       "      <td>UPI/134318498396/flipkart</td>\n",
       "      <td>264.00</td>\n",
       "      <td>Dr</td>\n",
       "    </tr>\n",
       "    <tr>\n",
       "      <th>530</th>\n",
       "      <td>2021-12-04</td>\n",
       "      <td>NEFT-N338210888414360-NEXTBILL</td>\n",
       "      <td>35.48</td>\n",
       "      <td>Cr</td>\n",
       "    </tr>\n",
       "    <tr>\n",
       "      <th>532</th>\n",
       "      <td>2021-12-04</td>\n",
       "      <td>UPI/133840864700/Ayana jeneral store</td>\n",
       "      <td>37.00</td>\n",
       "      <td>Dr</td>\n",
       "    </tr>\n",
       "    <tr>\n",
       "      <th>533</th>\n",
       "      <td>2021-12-03</td>\n",
       "      <td>ACH10-OIL AND NATURAL-701441</td>\n",
       "      <td>22.00</td>\n",
       "      <td>Cr</td>\n",
       "    </tr>\n",
       "    <tr>\n",
       "      <th>534</th>\n",
       "      <td>2021-12-02</td>\n",
       "      <td>UPI/133613841804/EURONETGPAY</td>\n",
       "      <td>149.00</td>\n",
       "      <td>Dr</td>\n",
       "    </tr>\n",
       "  </tbody>\n",
       "</table>\n",
       "<p>390 rows × 4 columns</p>\n",
       "</div>"
      ],
      "text/plain": [
       "          Date                           Description  Amount Type\n",
       "0   2023-02-04    UPI/303595961758/Aparajita  Kumari  500.00   Dr\n",
       "1   2023-02-04          UPI/303568251357/ASHWANI RAJ  500.00   Dr\n",
       "2   2023-02-01          UPI/303275341989/ASHWANI RAJ  200.00   Dr\n",
       "3   2023-02-01        ACHECS-HCL 4th IntDiv2-1002421  120.00   Cr\n",
       "4   2023-01-31          UPI/303180199455/ASHWANI RAJ  200.00   Dr\n",
       "..         ...                                   ...     ...  ...\n",
       "527 2021-12-09             UPI/134318498396/flipkart  264.00   Dr\n",
       "530 2021-12-04        NEFT-N338210888414360-NEXTBILL   35.48   Cr\n",
       "532 2021-12-04  UPI/133840864700/Ayana jeneral store   37.00   Dr\n",
       "533 2021-12-03          ACH10-OIL AND NATURAL-701441   22.00   Cr\n",
       "534 2021-12-02          UPI/133613841804/EURONETGPAY  149.00   Dr\n",
       "\n",
       "[390 rows x 4 columns]"
      ]
     },
     "execution_count": 10,
     "metadata": {},
     "output_type": "execute_result"
    }
   ],
   "source": [
    "cx = df.groupby(\"Amount\")\n",
    "cx.head()"
   ]
  },
  {
   "cell_type": "code",
   "execution_count": 11,
   "id": "6f1dca29",
   "metadata": {},
   "outputs": [
    {
     "data": {
      "image/png": "[encoded data removed]",
      "text/plain": [
       "<Figure size 432x288 with 1 Axes>"
      ]
     },
     "metadata": {
      "needs_background": "light"
     },
     "output_type": "display_data"
    }
   ],
   "source": [
    "# Create a new dataframe that only contains transactions with amounts greater than 500\n",
    "df_filtered = df[df['Amount'] > 5000]\n",
    "\n",
    "# Plot the filtered amounts of transactions using a bar chart\n",
    "df_filtered.plot(kind='barh', x='Description', y='Amount')\n",
    "plt.show()\n"
   ]
  },
  {
   "cell_type": "code",
   "execution_count": 12,
   "id": "dfa0ac50",
   "metadata": {},
   "outputs": [
    {
     "data": {
      "text/html": [
       "<div>\n",
       "<style scoped>\n",
       "    .dataframe tbody tr th:only-of-type {\n",
       "        vertical-align: middle;\n",
       "    }\n",
       "\n",
       "    .dataframe tbody tr th {\n",
       "        vertical-align: top;\n",
       "    }\n",
       "\n",
       "    .dataframe thead th {\n",
       "        text-align: right;\n",
       "    }\n",
       "</style>\n",
       "<table border=\"1\" class=\"dataframe\">\n",
       "  <thead>\n",
       "    <tr style=\"text-align: right;\">\n",
       "      <th></th>\n",
       "      <th>Date</th>\n",
       "      <th>Description</th>\n",
       "      <th>Amount</th>\n",
       "      <th>Type</th>\n",
       "    </tr>\n",
       "  </thead>\n",
       "  <tbody>\n",
       "    <tr>\n",
       "      <th>0</th>\n",
       "      <td>2023-02-04</td>\n",
       "      <td>UPI/303595961758/Aparajita  Kumari</td>\n",
       "      <td>500.00</td>\n",
       "      <td>Dr</td>\n",
       "    </tr>\n",
       "    <tr>\n",
       "      <th>1</th>\n",
       "      <td>2023-02-04</td>\n",
       "      <td>UPI/303568251357/ASHWANI RAJ</td>\n",
       "      <td>500.00</td>\n",
       "      <td>Dr</td>\n",
       "    </tr>\n",
       "    <tr>\n",
       "      <th>2</th>\n",
       "      <td>2023-02-01</td>\n",
       "      <td>UPI/303275341989/ASHWANI RAJ</td>\n",
       "      <td>200.00</td>\n",
       "      <td>Dr</td>\n",
       "    </tr>\n",
       "    <tr>\n",
       "      <th>3</th>\n",
       "      <td>2023-02-01</td>\n",
       "      <td>ACHECS-HCL 4th IntDiv2-1002421</td>\n",
       "      <td>120.00</td>\n",
       "      <td>Cr</td>\n",
       "    </tr>\n",
       "    <tr>\n",
       "      <th>4</th>\n",
       "      <td>2023-01-31</td>\n",
       "      <td>UPI/303180199455/ASHWANI RAJ</td>\n",
       "      <td>200.00</td>\n",
       "      <td>Dr</td>\n",
       "    </tr>\n",
       "    <tr>\n",
       "      <th>...</th>\n",
       "      <td>...</td>\n",
       "      <td>...</td>\n",
       "      <td>...</td>\n",
       "      <td>...</td>\n",
       "    </tr>\n",
       "    <tr>\n",
       "      <th>527</th>\n",
       "      <td>2021-12-09</td>\n",
       "      <td>UPI/134318498396/flipkart</td>\n",
       "      <td>264.00</td>\n",
       "      <td>Dr</td>\n",
       "    </tr>\n",
       "    <tr>\n",
       "      <th>530</th>\n",
       "      <td>2021-12-04</td>\n",
       "      <td>NEFT-N338210888414360-NEXTBILL</td>\n",
       "      <td>35.48</td>\n",
       "      <td>Cr</td>\n",
       "    </tr>\n",
       "    <tr>\n",
       "      <th>532</th>\n",
       "      <td>2021-12-04</td>\n",
       "      <td>UPI/133840864700/Ayana jeneral store</td>\n",
       "      <td>37.00</td>\n",
       "      <td>Dr</td>\n",
       "    </tr>\n",
       "    <tr>\n",
       "      <th>533</th>\n",
       "      <td>2021-12-03</td>\n",
       "      <td>ACH10-OIL AND NATURAL-701441</td>\n",
       "      <td>22.00</td>\n",
       "      <td>Cr</td>\n",
       "    </tr>\n",
       "    <tr>\n",
       "      <th>534</th>\n",
       "      <td>2021-12-02</td>\n",
       "      <td>UPI/133613841804/EURONETGPAY</td>\n",
       "      <td>149.00</td>\n",
       "      <td>Dr</td>\n",
       "    </tr>\n",
       "  </tbody>\n",
       "</table>\n",
       "<p>390 rows × 4 columns</p>\n",
       "</div>"
      ],
      "text/plain": [
       "          Date                           Description  Amount Type\n",
       "0   2023-02-04    UPI/303595961758/Aparajita  Kumari  500.00   Dr\n",
       "1   2023-02-04          UPI/303568251357/ASHWANI RAJ  500.00   Dr\n",
       "2   2023-02-01          UPI/303275341989/ASHWANI RAJ  200.00   Dr\n",
       "3   2023-02-01        ACHECS-HCL 4th IntDiv2-1002421  120.00   Cr\n",
       "4   2023-01-31          UPI/303180199455/ASHWANI RAJ  200.00   Dr\n",
       "..         ...                                   ...     ...  ...\n",
       "527 2021-12-09             UPI/134318498396/flipkart  264.00   Dr\n",
       "530 2021-12-04        NEFT-N338210888414360-NEXTBILL   35.48   Cr\n",
       "532 2021-12-04  UPI/133840864700/Ayana jeneral store   37.00   Dr\n",
       "533 2021-12-03          ACH10-OIL AND NATURAL-701441   22.00   Cr\n",
       "534 2021-12-02          UPI/133613841804/EURONETGPAY  149.00   Dr\n",
       "\n",
       "[390 rows x 4 columns]"
      ]
     },
     "execution_count": 12,
     "metadata": {},
     "output_type": "execute_result"
    }
   ],
   "source": [
    "gru = df.groupby('Amount')\n",
    "gru.head()"
   ]
  },
  {
   "cell_type": "code",
   "execution_count": 14,
   "id": "800f4dfe",
   "metadata": {},
   "outputs": [
    {
     "data": {
      "image/png": "[encoded data removed]",
      "text/plain": [
       "<Figure size 432x288 with 1 Axes>"
      ]
     },
     "metadata": {
      "needs_background": "light"
     },
     "output_type": "display_data"
    }
   ],
   "source": [
    "# Assuming you have a DataFrame named df\n",
    "df['Date'] = pd.to_datetime(df['Date'])\n",
    "\n",
    "# Plot the line chart\n",
    "df['Amount'].plot()\n",
    "plt.title('Amount over Time')\n",
    "plt.xlabel('Date')\n",
    "plt.ylabel('Amount')\n",
    "plt.show()"
   ]
  },
  {
   "cell_type": "code",
   "execution_count": 17,
   "id": "53bb048f",
   "metadata": {},
   "outputs": [
    {
     "data": {
      "image/png": "[encoded data removed]",
      "text/plain": [
       "<Figure size 432x288 with 1 Axes>"
      ]
     },
     "metadata": {
      "needs_background": "light"
     },
     "output_type": "display_data"
    }
   ],
   "source": [
    "start_date = '2021-01-01'\n",
    "end_date = '2023-02-04'\n",
    "filtered_df = df[(df['Date'] >= start_date) & (df['Date'] <= end_date)]\n",
    "filtered_df.plot(x='Date', y='Amount')\n",
    "plt.show()\n"
   ]
  },
  {
   "cell_type": "code",
   "execution_count": 18,
   "id": "679a64fe",
   "metadata": {},
   "outputs": [
    {
     "data": {
      "text/plain": [
       "<AxesSubplot:>"
      ]
     },
     "execution_count": 18,
     "metadata": {},
     "output_type": "execute_result"
    },
    {
     "data": {
      "image/png": "[encoded data removed]",
      "text/plain": [
       "<Figure size 432x288 with 1 Axes>"
      ]
     },
     "metadata": {
      "needs_background": "light"
     },
     "output_type": "display_data"
    }
   ],
   "source": [
    "sns.boxplot(df['Amount'])\n"
   ]
  },
  {
   "cell_type": "code",
   "execution_count": 21,
   "id": "b57e9c9a",
   "metadata": {},
   "outputs": [
    {
     "data": {
      "image/png": "[encoded data removed]",
      "text/plain": [
       "<Figure size 432x288 with 1 Axes>"
      ]
     },
     "metadata": {
      "needs_background": "light"
     },
     "output_type": "display_data"
    }
   ],
   "source": [
    "df['Date'] = pd.to_datetime(df['Date'])\n",
    "df.plot(kind='scatter', x='Date', y='Amount')\n",
    "plt.show()"
   ]
  },
  {
   "cell_type": "code",
   "execution_count": 23,
   "id": "1a299eba",
   "metadata": {},
   "outputs": [
    {
     "data": {
      "image/png": "[encoded data removed]",
      "text/plain": [
       "<Figure size 432x288 with 1 Axes>"
      ]
     },
     "metadata": {
      "needs_background": "light"
     },
     "output_type": "display_data"
    }
   ],
   "source": [
    "# Set the color based on the Type column\n",
    "color_map = {'Cr':'red', 'Dr':'blue'}\n",
    "colors = df['Type'].map(lambda x: color_map[x])\n",
    "\n",
    "# Create the scatterplot\n",
    "plt.scatter(x=df['Date'], y=df['Amount'], c=colors)\n",
    "plt.show()"
   ]
  },
  {
   "cell_type": "code",
   "execution_count": null,
   "id": "23536c50",
   "metadata": {},
   "outputs": [],
   "source": []
  },
  {
   "cell_type": "code",
   "execution_count": null,
   "id": "3895ed2f",
   "metadata": {},
   "outputs": [],
   "source": []
  },
  {
   "cell_type": "code",
   "execution_count": null,
   "id": "887fbb1b",
   "metadata": {},
   "outputs": [],
   "source": []
  }
 ],
 "metadata": {
  "kernelspec": {
   "display_name": "Python 3 (ipykernel)",
   "language": "python",
   "name": "python3"
  },
  "language_info": {
   "codemirror_mode": {
    "name": "ipython",
    "version": 3
   },
   "file_extension": ".py",
   "mimetype": "text/x-python",
   "name": "python",
   "nbconvert_exporter": "python",
   "pygments_lexer": "ipython3",
   "version": "3.10.0"
  }
 },
 "nbformat": 4,
 "nbformat_minor": 5
}
