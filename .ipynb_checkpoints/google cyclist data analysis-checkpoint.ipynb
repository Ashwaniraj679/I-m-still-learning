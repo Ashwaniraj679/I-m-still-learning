{
 "cells": [
  {
   "cell_type": "code",
   "execution_count": 1,
   "id": "0784a61a",
   "metadata": {},
   "outputs": [],
   "source": [
    "import numpy as np\n",
    "import pandas as pd "
   ]
  },
  {
   "cell_type": "code",
   "execution_count": 2,
   "id": "95af77c2",
   "metadata": {},
   "outputs": [],
   "source": [
    "data = pd.read_csv(r'C:\\Users\\Ashwani Raj\\Desktop\\Previous 12 months of Cyclistic trip data\\.csv files\\202101-divvy-tripdata.csv')"
   ]
  },
  {
   "cell_type": "code",
   "execution_count": 3,
   "id": "e1a8e69a",
   "metadata": {},
   "outputs": [
    {
     "data": {
      "text/html": [
       "<div>\n",
       "<style scoped>\n",
       "    .dataframe tbody tr th:only-of-type {\n",
       "        vertical-align: middle;\n",
       "    }\n",
       "\n",
       "    .dataframe tbody tr th {\n",
       "        vertical-align: top;\n",
       "    }\n",
       "\n",
       "    .dataframe thead th {\n",
       "        text-align: right;\n",
       "    }\n",
       "</style>\n",
       "<table border=\"1\" class=\"dataframe\">\n",
       "  <thead>\n",
       "    <tr style=\"text-align: right;\">\n",
       "      <th></th>\n",
       "      <th>ride_id</th>\n",
       "      <th>rideable_type</th>\n",
       "      <th>started_at</th>\n",
       "      <th>ended_at</th>\n",
       "      <th>start_station_name</th>\n",
       "      <th>start_station_id</th>\n",
       "      <th>end_station_name</th>\n",
       "      <th>end_station_id</th>\n",
       "      <th>start_lat</th>\n",
       "      <th>start_lng</th>\n",
       "      <th>end_lat</th>\n",
       "      <th>end_lng</th>\n",
       "      <th>member_casual</th>\n",
       "    </tr>\n",
       "  </thead>\n",
       "  <tbody>\n",
       "    <tr>\n",
       "      <th>0</th>\n",
       "      <td>E19E6F1B8D4C42ED</td>\n",
       "      <td>electric_bike</td>\n",
       "      <td>2021-01-23 16:14:19</td>\n",
       "      <td>2021-01-23 16:24:44</td>\n",
       "      <td>California Ave &amp; Cortez St</td>\n",
       "      <td>17660</td>\n",
       "      <td>NaN</td>\n",
       "      <td>NaN</td>\n",
       "      <td>41.900341</td>\n",
       "      <td>-87.696743</td>\n",
       "      <td>41.89</td>\n",
       "      <td>-87.72</td>\n",
       "      <td>member</td>\n",
       "    </tr>\n",
       "    <tr>\n",
       "      <th>1</th>\n",
       "      <td>DC88F20C2C55F27F</td>\n",
       "      <td>electric_bike</td>\n",
       "      <td>2021-01-27 18:43:08</td>\n",
       "      <td>2021-01-27 18:47:12</td>\n",
       "      <td>California Ave &amp; Cortez St</td>\n",
       "      <td>17660</td>\n",
       "      <td>NaN</td>\n",
       "      <td>NaN</td>\n",
       "      <td>41.900333</td>\n",
       "      <td>-87.696707</td>\n",
       "      <td>41.90</td>\n",
       "      <td>-87.69</td>\n",
       "      <td>member</td>\n",
       "    </tr>\n",
       "    <tr>\n",
       "      <th>2</th>\n",
       "      <td>EC45C94683FE3F27</td>\n",
       "      <td>electric_bike</td>\n",
       "      <td>2021-01-21 22:35:54</td>\n",
       "      <td>2021-01-21 22:37:14</td>\n",
       "      <td>California Ave &amp; Cortez St</td>\n",
       "      <td>17660</td>\n",
       "      <td>NaN</td>\n",
       "      <td>NaN</td>\n",
       "      <td>41.900313</td>\n",
       "      <td>-87.696643</td>\n",
       "      <td>41.90</td>\n",
       "      <td>-87.70</td>\n",
       "      <td>member</td>\n",
       "    </tr>\n",
       "    <tr>\n",
       "      <th>3</th>\n",
       "      <td>4FA453A75AE377DB</td>\n",
       "      <td>electric_bike</td>\n",
       "      <td>2021-01-07 13:31:13</td>\n",
       "      <td>2021-01-07 13:42:55</td>\n",
       "      <td>California Ave &amp; Cortez St</td>\n",
       "      <td>17660</td>\n",
       "      <td>NaN</td>\n",
       "      <td>NaN</td>\n",
       "      <td>41.900399</td>\n",
       "      <td>-87.696662</td>\n",
       "      <td>41.92</td>\n",
       "      <td>-87.69</td>\n",
       "      <td>member</td>\n",
       "    </tr>\n",
       "    <tr>\n",
       "      <th>4</th>\n",
       "      <td>BE5E8EB4E7263A0B</td>\n",
       "      <td>electric_bike</td>\n",
       "      <td>2021-01-23 02:24:02</td>\n",
       "      <td>2021-01-23 02:24:45</td>\n",
       "      <td>California Ave &amp; Cortez St</td>\n",
       "      <td>17660</td>\n",
       "      <td>NaN</td>\n",
       "      <td>NaN</td>\n",
       "      <td>41.900326</td>\n",
       "      <td>-87.696697</td>\n",
       "      <td>41.90</td>\n",
       "      <td>-87.70</td>\n",
       "      <td>casual</td>\n",
       "    </tr>\n",
       "  </tbody>\n",
       "</table>\n",
       "</div>"
      ],
      "text/plain": [
       "            ride_id  rideable_type           started_at             ended_at  \\\n",
       "0  E19E6F1B8D4C42ED  electric_bike  2021-01-23 16:14:19  2021-01-23 16:24:44   \n",
       "1  DC88F20C2C55F27F  electric_bike  2021-01-27 18:43:08  2021-01-27 18:47:12   \n",
       "2  EC45C94683FE3F27  electric_bike  2021-01-21 22:35:54  2021-01-21 22:37:14   \n",
       "3  4FA453A75AE377DB  electric_bike  2021-01-07 13:31:13  2021-01-07 13:42:55   \n",
       "4  BE5E8EB4E7263A0B  electric_bike  2021-01-23 02:24:02  2021-01-23 02:24:45   \n",
       "\n",
       "           start_station_name start_station_id end_station_name  \\\n",
       "0  California Ave & Cortez St            17660              NaN   \n",
       "1  California Ave & Cortez St            17660              NaN   \n",
       "2  California Ave & Cortez St            17660              NaN   \n",
       "3  California Ave & Cortez St            17660              NaN   \n",
       "4  California Ave & Cortez St            17660              NaN   \n",
       "\n",
       "  end_station_id  start_lat  start_lng  end_lat  end_lng member_casual  \n",
       "0            NaN  41.900341 -87.696743    41.89   -87.72        member  \n",
       "1            NaN  41.900333 -87.696707    41.90   -87.69        member  \n",
       "2            NaN  41.900313 -87.696643    41.90   -87.70        member  \n",
       "3            NaN  41.900399 -87.696662    41.92   -87.69        member  \n",
       "4            NaN  41.900326 -87.696697    41.90   -87.70        casual  "
      ]
     },
     "execution_count": 3,
     "metadata": {},
     "output_type": "execute_result"
    }
   ],
   "source": [
    "df = pd.DataFrame(data)\n",
    "df.head()"
   ]
  },
  {
   "cell_type": "code",
   "execution_count": 4,
   "id": "2fb154b6",
   "metadata": {
    "scrolled": true
   },
   "outputs": [
    {
     "data": {
      "text/plain": [
       "array(['electric_bike', 'classic_bike', 'docked_bike'], dtype=object)"
      ]
     },
     "execution_count": 4,
     "metadata": {},
     "output_type": "execute_result"
    }
   ],
   "source": [
    "df.iloc[:,1].unique()"
   ]
  },
  {
   "cell_type": "code",
   "execution_count": 5,
   "id": "c319ed10",
   "metadata": {},
   "outputs": [
    {
     "data": {
      "text/html": [
       "<div>\n",
       "<style scoped>\n",
       "    .dataframe tbody tr th:only-of-type {\n",
       "        vertical-align: middle;\n",
       "    }\n",
       "\n",
       "    .dataframe tbody tr th {\n",
       "        vertical-align: top;\n",
       "    }\n",
       "\n",
       "    .dataframe thead th {\n",
       "        text-align: right;\n",
       "    }\n",
       "</style>\n",
       "<table border=\"1\" class=\"dataframe\">\n",
       "  <thead>\n",
       "    <tr style=\"text-align: right;\">\n",
       "      <th></th>\n",
       "      <th>started_at</th>\n",
       "      <th>ended_at</th>\n",
       "    </tr>\n",
       "  </thead>\n",
       "  <tbody>\n",
       "    <tr>\n",
       "      <th>0</th>\n",
       "      <td>2021-01-23 16:14:19</td>\n",
       "      <td>2021-01-23 16:24:44</td>\n",
       "    </tr>\n",
       "    <tr>\n",
       "      <th>1</th>\n",
       "      <td>2021-01-27 18:43:08</td>\n",
       "      <td>2021-01-27 18:47:12</td>\n",
       "    </tr>\n",
       "    <tr>\n",
       "      <th>2</th>\n",
       "      <td>2021-01-21 22:35:54</td>\n",
       "      <td>2021-01-21 22:37:14</td>\n",
       "    </tr>\n",
       "    <tr>\n",
       "      <th>3</th>\n",
       "      <td>2021-01-07 13:31:13</td>\n",
       "      <td>2021-01-07 13:42:55</td>\n",
       "    </tr>\n",
       "    <tr>\n",
       "      <th>4</th>\n",
       "      <td>2021-01-23 02:24:02</td>\n",
       "      <td>2021-01-23 02:24:45</td>\n",
       "    </tr>\n",
       "    <tr>\n",
       "      <th>...</th>\n",
       "      <td>...</td>\n",
       "      <td>...</td>\n",
       "    </tr>\n",
       "    <tr>\n",
       "      <th>96829</th>\n",
       "      <td>2021-01-19 19:03:17</td>\n",
       "      <td>2021-01-19 20:10:03</td>\n",
       "    </tr>\n",
       "    <tr>\n",
       "      <th>96830</th>\n",
       "      <td>2021-01-05 18:42:27</td>\n",
       "      <td>2021-01-05 19:33:33</td>\n",
       "    </tr>\n",
       "    <tr>\n",
       "      <th>96831</th>\n",
       "      <td>2021-01-07 17:59:47</td>\n",
       "      <td>2021-01-07 19:34:03</td>\n",
       "    </tr>\n",
       "    <tr>\n",
       "      <th>96832</th>\n",
       "      <td>2021-01-06 19:20:31</td>\n",
       "      <td>2021-01-06 20:41:57</td>\n",
       "    </tr>\n",
       "    <tr>\n",
       "      <th>96833</th>\n",
       "      <td>2021-01-17 13:20:02</td>\n",
       "      <td>2021-01-17 14:17:00</td>\n",
       "    </tr>\n",
       "  </tbody>\n",
       "</table>\n",
       "<p>96834 rows × 2 columns</p>\n",
       "</div>"
      ],
      "text/plain": [
       "                started_at             ended_at\n",
       "0      2021-01-23 16:14:19  2021-01-23 16:24:44\n",
       "1      2021-01-27 18:43:08  2021-01-27 18:47:12\n",
       "2      2021-01-21 22:35:54  2021-01-21 22:37:14\n",
       "3      2021-01-07 13:31:13  2021-01-07 13:42:55\n",
       "4      2021-01-23 02:24:02  2021-01-23 02:24:45\n",
       "...                    ...                  ...\n",
       "96829  2021-01-19 19:03:17  2021-01-19 20:10:03\n",
       "96830  2021-01-05 18:42:27  2021-01-05 19:33:33\n",
       "96831  2021-01-07 17:59:47  2021-01-07 19:34:03\n",
       "96832  2021-01-06 19:20:31  2021-01-06 20:41:57\n",
       "96833  2021-01-17 13:20:02  2021-01-17 14:17:00\n",
       "\n",
       "[96834 rows x 2 columns]"
      ]
     },
     "execution_count": 5,
     "metadata": {},
     "output_type": "execute_result"
    }
   ],
   "source": [
    "df.iloc[:,2:4]"
   ]
  },
  {
   "cell_type": "code",
   "execution_count": 6,
   "id": "da5dd087",
   "metadata": {},
   "outputs": [
    {
     "data": {
      "text/plain": [
       "ride_id                   0\n",
       "rideable_type             0\n",
       "started_at                0\n",
       "ended_at                  0\n",
       "start_station_name     8625\n",
       "start_station_id       8625\n",
       "end_station_name      10277\n",
       "end_station_id        10277\n",
       "start_lat                 0\n",
       "start_lng                 0\n",
       "end_lat                 103\n",
       "end_lng                 103\n",
       "member_casual             0\n",
       "dtype: int64"
      ]
     },
     "execution_count": 6,
     "metadata": {},
     "output_type": "execute_result"
    }
   ],
   "source": [
    "df.isnull().sum()"
   ]
  },
  {
   "cell_type": "code",
   "execution_count": 7,
   "id": "a0736258",
   "metadata": {},
   "outputs": [
    {
     "data": {
      "text/plain": [
       "13"
      ]
     },
     "execution_count": 7,
     "metadata": {},
     "output_type": "execute_result"
    }
   ],
   "source": [
    "len(df.columns.values)"
   ]
  },
  {
   "cell_type": "code",
   "execution_count": 12,
   "id": "6712598a",
   "metadata": {},
   "outputs": [],
   "source": [
    "df['started_at'] = pd.to_datetime(df['started_at'], format='%Y-%m-%d %H:%M:%S')\n",
    "df['ended_at'] = pd.to_datetime(df['ended_at'], format='%Y-%m-%d %H:%M:%S')"
   ]
  },
  {
   "cell_type": "code",
   "execution_count": 11,
   "id": "1d27c0e4",
   "metadata": {},
   "outputs": [
    {
     "name": "stdout",
     "output_type": "stream",
     "text": [
      "datetime64[ns]\n",
      "0       2021-01-23 16:14:19\n",
      "1       2021-01-27 18:43:08\n",
      "2       2021-01-21 22:35:54\n",
      "3       2021-01-07 13:31:13\n",
      "4       2021-01-23 02:24:02\n",
      "                ...        \n",
      "96829   2021-01-19 19:03:17\n",
      "96830   2021-01-05 18:42:27\n",
      "96831   2021-01-07 17:59:47\n",
      "96832   2021-01-06 19:20:31\n",
      "96833   2021-01-17 13:20:02\n",
      "Name: started_at, Length: 96834, dtype: datetime64[ns]\n"
     ]
    }
   ],
   "source": [
    "print(df['started_at'].dtype)\n",
    "print(df['started_at'])"
   ]
  },
  {
   "cell_type": "code",
   "execution_count": 15,
   "id": "80f176ef",
   "metadata": {},
   "outputs": [
    {
     "name": "stdout",
     "output_type": "stream",
     "text": [
      "                ride_id  rideable_type          started_at  \\\n",
      "0      E19E6F1B8D4C42ED  electric_bike 2021-01-23 16:14:19   \n",
      "1      DC88F20C2C55F27F  electric_bike 2021-01-27 18:43:08   \n",
      "2      EC45C94683FE3F27  electric_bike 2021-01-21 22:35:54   \n",
      "3      4FA453A75AE377DB  electric_bike 2021-01-07 13:31:13   \n",
      "4      BE5E8EB4E7263A0B  electric_bike 2021-01-23 02:24:02   \n",
      "...                 ...            ...                 ...   \n",
      "96829  B1A5336E1412D8BF   classic_bike 2021-01-19 19:03:17   \n",
      "96830  57EA5CB7DCD75F90   classic_bike 2021-01-05 18:42:27   \n",
      "96831  815B319A078CC984   classic_bike 2021-01-07 17:59:47   \n",
      "96832  6DB04151565CEE63   classic_bike 2021-01-06 19:20:31   \n",
      "96833  8008C9C998083A1A    docked_bike 2021-01-17 13:20:02   \n",
      "\n",
      "                 ended_at               start_station_name start_station_id  \\\n",
      "0     2021-01-23 16:24:44       California Ave & Cortez St            17660   \n",
      "1     2021-01-27 18:47:12       California Ave & Cortez St            17660   \n",
      "2     2021-01-21 22:37:14       California Ave & Cortez St            17660   \n",
      "3     2021-01-07 13:42:55       California Ave & Cortez St            17660   \n",
      "4     2021-01-23 02:24:45       California Ave & Cortez St            17660   \n",
      "...                   ...                              ...              ...   \n",
      "96829 2021-01-19 20:10:03        Lake Shore Dr & Monroe St            13300   \n",
      "96830 2021-01-05 19:33:33        Lake Shore Dr & Monroe St            13300   \n",
      "96831 2021-01-07 19:34:03  Lakefront Trail & Bryn Mawr Ave     KA1504000152   \n",
      "96832 2021-01-06 20:41:57  Lakefront Trail & Bryn Mawr Ave     KA1504000152   \n",
      "96833 2021-01-17 14:17:00        Lake Shore Dr & Monroe St            13300   \n",
      "\n",
      "                      end_station_name end_station_id  start_lat  start_lng  \\\n",
      "0                                  NaN            NaN  41.900341 -87.696743   \n",
      "1                                  NaN            NaN  41.900333 -87.696707   \n",
      "2                                  NaN            NaN  41.900313 -87.696643   \n",
      "3                                  NaN            NaN  41.900399 -87.696662   \n",
      "4                                  NaN            NaN  41.900326 -87.696697   \n",
      "...                                ...            ...        ...        ...   \n",
      "96829  Lakefront Trail & Bryn Mawr Ave   KA1504000152  41.880958 -87.616743   \n",
      "96830  Lakefront Trail & Bryn Mawr Ave   KA1504000152  41.880958 -87.616743   \n",
      "96831  Lakefront Trail & Bryn Mawr Ave   KA1504000152  41.984037 -87.652310   \n",
      "96832  Lakefront Trail & Bryn Mawr Ave   KA1504000152  41.984037 -87.652310   \n",
      "96833        Lake Shore Dr & Monroe St          13300  41.880958 -87.616743   \n",
      "\n",
      "         end_lat    end_lng member_casual     ride_length  \n",
      "0      41.890000 -87.720000        member 0 days 00:10:25  \n",
      "1      41.900000 -87.690000        member 0 days 00:04:04  \n",
      "2      41.900000 -87.700000        member 0 days 00:01:20  \n",
      "3      41.920000 -87.690000        member 0 days 00:11:42  \n",
      "4      41.900000 -87.700000        casual 0 days 00:00:43  \n",
      "...          ...        ...           ...             ...  \n",
      "96829  41.984037 -87.652310        member 0 days 01:06:46  \n",
      "96830  41.984037 -87.652310        member 0 days 00:51:06  \n",
      "96831  41.984037 -87.652310        member 0 days 01:34:16  \n",
      "96832  41.984037 -87.652310        member 0 days 01:21:26  \n",
      "96833  41.880958 -87.616743        casual 0 days 00:56:58  \n",
      "\n",
      "[96834 rows x 14 columns]\n"
     ]
    }
   ],
   "source": [
    "df = df.assign(ride_length=df['ended_at'] - df['started_at'])\n",
    "\n",
    "# Display the DataFrame\n",
    "print(df)"
   ]
  },
  {
   "cell_type": "code",
   "execution_count": 31,
   "id": "fa44edc6",
   "metadata": {},
   "outputs": [
    {
     "data": {
      "text/html": [
       "<div>\n",
       "<style scoped>\n",
       "    .dataframe tbody tr th:only-of-type {\n",
       "        vertical-align: middle;\n",
       "    }\n",
       "\n",
       "    .dataframe tbody tr th {\n",
       "        vertical-align: top;\n",
       "    }\n",
       "\n",
       "    .dataframe thead th {\n",
       "        text-align: right;\n",
       "    }\n",
       "</style>\n",
       "<table border=\"1\" class=\"dataframe\">\n",
       "  <thead>\n",
       "    <tr style=\"text-align: right;\">\n",
       "      <th></th>\n",
       "      <th>ride_id</th>\n",
       "      <th>rideable_type</th>\n",
       "      <th>started_at</th>\n",
       "      <th>ended_at</th>\n",
       "      <th>start_station_name</th>\n",
       "      <th>start_station_id</th>\n",
       "      <th>end_station_name</th>\n",
       "      <th>end_station_id</th>\n",
       "      <th>start_lat</th>\n",
       "      <th>start_lng</th>\n",
       "      <th>end_lat</th>\n",
       "      <th>end_lng</th>\n",
       "      <th>member_casual</th>\n",
       "      <th>ride_length</th>\n",
       "    </tr>\n",
       "  </thead>\n",
       "  <tbody>\n",
       "    <tr>\n",
       "      <th>6592</th>\n",
       "      <td>FC1EFEF4475D7F56</td>\n",
       "      <td>classic_bike</td>\n",
       "      <td>2021-01-09 15:42:45</td>\n",
       "      <td>2021-01-09 15:41:02</td>\n",
       "      <td>Monticello Ave &amp; Irving Park Rd</td>\n",
       "      <td>KA1504000139</td>\n",
       "      <td>NaN</td>\n",
       "      <td>NaN</td>\n",
       "      <td>41.954005</td>\n",
       "      <td>-87.719128</td>\n",
       "      <td>NaN</td>\n",
       "      <td>NaN</td>\n",
       "      <td>member</td>\n",
       "      <td>-1 days +23:58:17</td>\n",
       "    </tr>\n",
       "    <tr>\n",
       "      <th>35752</th>\n",
       "      <td>B1235D38EB2F8A9E</td>\n",
       "      <td>electric_bike</td>\n",
       "      <td>2021-01-06 18:33:12</td>\n",
       "      <td>2021-01-06 18:31:07</td>\n",
       "      <td>Daley Center Plaza</td>\n",
       "      <td>TA1306000010</td>\n",
       "      <td>NaN</td>\n",
       "      <td>NaN</td>\n",
       "      <td>41.883944</td>\n",
       "      <td>-87.629307</td>\n",
       "      <td>41.88</td>\n",
       "      <td>-87.63</td>\n",
       "      <td>member</td>\n",
       "      <td>-1 days +23:57:55</td>\n",
       "    </tr>\n",
       "  </tbody>\n",
       "</table>\n",
       "</div>"
      ],
      "text/plain": [
       "                ride_id  rideable_type          started_at  \\\n",
       "6592   FC1EFEF4475D7F56   classic_bike 2021-01-09 15:42:45   \n",
       "35752  B1235D38EB2F8A9E  electric_bike 2021-01-06 18:33:12   \n",
       "\n",
       "                 ended_at               start_station_name start_station_id  \\\n",
       "6592  2021-01-09 15:41:02  Monticello Ave & Irving Park Rd     KA1504000139   \n",
       "35752 2021-01-06 18:31:07               Daley Center Plaza     TA1306000010   \n",
       "\n",
       "      end_station_name end_station_id  start_lat  start_lng  end_lat  end_lng  \\\n",
       "6592               NaN            NaN  41.954005 -87.719128      NaN      NaN   \n",
       "35752              NaN            NaN  41.883944 -87.629307    41.88   -87.63   \n",
       "\n",
       "      member_casual       ride_length  \n",
       "6592         member -1 days +23:58:17  \n",
       "35752        member -1 days +23:57:55  "
      ]
     },
     "execution_count": 31,
     "metadata": {},
     "output_type": "execute_result"
    }
   ],
   "source": [
    "timedelta = pd.Timedelta('0 days 00:00:00')\n",
    "df_filtered = df.loc[df['ride_length'] < timedelta]\n",
    "df_filtered"
   ]
  },
  {
   "cell_type": "code",
   "execution_count": 18,
   "id": "a30b0e34",
   "metadata": {},
   "outputs": [
    {
     "name": "stdout",
     "output_type": "stream",
     "text": [
      "count                        96834\n",
      "mean     0 days 00:15:16.145940475\n",
      "std      0 days 01:23:56.346036055\n",
      "min              -1 days +23:57:55\n",
      "25%                0 days 00:05:33\n",
      "50%                0 days 00:09:18\n",
      "75%                0 days 00:16:19\n",
      "max               13 days 18:25:55\n",
      "Name: ride_length, dtype: object\n"
     ]
    }
   ],
   "source": [
    "# Get a summary of the 'column1' column\n",
    "summary = df['ride_length'].describe()\n",
    "\n",
    "# Print the mean\n",
    "print(summary)\n"
   ]
  },
  {
   "cell_type": "code",
   "execution_count": null,
   "id": "903f8af3",
   "metadata": {},
   "outputs": [],
   "source": []
  },
  {
   "cell_type": "code",
   "execution_count": null,
   "id": "4c2338b2",
   "metadata": {},
   "outputs": [],
   "source": []
  },
  {
   "cell_type": "code",
   "execution_count": null,
   "id": "dbe0b120",
   "metadata": {},
   "outputs": [],
   "source": []
  },
  {
   "cell_type": "code",
   "execution_count": null,
   "id": "87be9a00",
   "metadata": {},
   "outputs": [],
   "source": []
  }
 ],
 "metadata": {
  "kernelspec": {
   "display_name": "Python 3 (ipykernel)",
   "language": "python",
   "name": "python3"
  },
  "language_info": {
   "codemirror_mode": {
    "name": "ipython",
    "version": 3
   },
   "file_extension": ".py",
   "mimetype": "text/x-python",
   "name": "python",
   "nbconvert_exporter": "python",
   "pygments_lexer": "ipython3",
   "version": "3.10.0"
  }
 },
 "nbformat": 4,
 "nbformat_minor": 5
}
