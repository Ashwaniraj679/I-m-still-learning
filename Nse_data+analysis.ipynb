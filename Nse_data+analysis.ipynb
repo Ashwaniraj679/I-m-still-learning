{
 "cells": [
  {
   "cell_type": "code",
   "execution_count": 1,
   "id": "f3fdbf05",
   "metadata": {},
   "outputs": [],
   "source": [
    "from nsetools import Nse\n",
    "import pandas as pd\n",
    "import numpy as np"
   ]
  },
  {
   "cell_type": "code",
   "execution_count": 2,
   "id": "93d0851f",
   "metadata": {},
   "outputs": [],
   "source": [
    "nse =Nse()"
   ]
  },
  {
   "cell_type": "code",
   "execution_count": 3,
   "id": "caefd48a",
   "metadata": {},
   "outputs": [
    {
     "name": "stdout",
     "output_type": "stream",
     "text": [
      "Driver Class for National Stock Exchange (NSE)\n"
     ]
    }
   ],
   "source": [
    "print(nse)"
   ]
  },
  {
   "cell_type": "code",
   "execution_count": 4,
   "id": "74ba6855",
   "metadata": {},
   "outputs": [],
   "source": [
    "q = nse.get_quote('Hindalco')"
   ]
  },
  {
   "cell_type": "code",
   "execution_count": 5,
   "id": "f542c547",
   "metadata": {},
   "outputs": [
    {
     "data": {
      "text/plain": [
       "{'pricebandupper': 509.7,\n",
       " 'symbol': 'HINDALCO',\n",
       " 'applicableMargin': 20.67,\n",
       " 'bcEndDate': '22-AUG-22',\n",
       " 'totalSellQuantity': None,\n",
       " 'adhocMargin': None,\n",
       " 'companyName': 'Hindalco Industries Limited',\n",
       " 'marketType': 'N',\n",
       " 'exDate': '11-AUG-22',\n",
       " 'bcStartDate': '16-AUG-22',\n",
       " 'css_status_desc': 'Listed',\n",
       " 'dayHigh': 470.4,\n",
       " 'basePrice': 463.4,\n",
       " 'securityVar': 17.17,\n",
       " 'pricebandlower': 417.1,\n",
       " 'sellQuantity5': None,\n",
       " 'sellQuantity4': None,\n",
       " 'sellQuantity3': None,\n",
       " 'cm_adj_high_dt': '29-MAR-22',\n",
       " 'sellQuantity2': None,\n",
       " 'dayLow': 458.0,\n",
       " 'sellQuantity1': None,\n",
       " 'quantityTraded': 6621056.0,\n",
       " 'pChange': '-0.50',\n",
       " 'totalTradedValue': 30770.7,\n",
       " 'deliveryToTradedQuantity': 32.1,\n",
       " 'totalBuyQuantity': 4246.0,\n",
       " 'averagePrice': 464.74,\n",
       " 'indexVar': None,\n",
       " 'cm_ffm': 67351.21,\n",
       " 'purpose': 'ANNUAL GENERAL MEETING/DIVIDEND - RS 4 PER SHARE',\n",
       " 'buyPrice2': None,\n",
       " 'secDate': '02-Dec-2022 00:00:00',\n",
       " 'buyPrice1': 461.1,\n",
       " 'high52': 636.0,\n",
       " 'previousClose': 463.4,\n",
       " 'ndEndDate': None,\n",
       " 'low52': 308.95,\n",
       " 'buyPrice4': None,\n",
       " 'buyPrice3': None,\n",
       " 'recordDate': None,\n",
       " 'deliveryQuantity': 2125210.0,\n",
       " 'buyPrice5': None,\n",
       " 'priceBand': 'No Band',\n",
       " 'extremeLossMargin': 3.5,\n",
       " 'cm_adj_low_dt': '20-JUN-22',\n",
       " 'varMargin': 17.17,\n",
       " 'sellPrice1': None,\n",
       " 'sellPrice2': None,\n",
       " 'totalTradedVolume': 6621056.0,\n",
       " 'sellPrice3': None,\n",
       " 'sellPrice4': None,\n",
       " 'sellPrice5': None,\n",
       " 'change': '-2.30',\n",
       " 'surv_indicator': None,\n",
       " 'ndStartDate': None,\n",
       " 'buyQuantity4': None,\n",
       " 'isExDateFlag': False,\n",
       " 'buyQuantity3': None,\n",
       " 'buyQuantity2': None,\n",
       " 'buyQuantity1': 4246.0,\n",
       " 'series': 'EQ',\n",
       " 'faceValue': 1.0,\n",
       " 'buyQuantity5': None,\n",
       " 'closePrice': 461.1,\n",
       " 'open': 463.3,\n",
       " 'isinCode': 'INE038A01020',\n",
       " 'lastPrice': 461.1}"
      ]
     },
     "execution_count": 5,
     "metadata": {},
     "output_type": "execute_result"
    }
   ],
   "source": [
    "q"
   ]
  },
  {
   "cell_type": "code",
   "execution_count": null,
   "id": "6f343fcf",
   "metadata": {},
   "outputs": [],
   "source": []
  },
  {
   "cell_type": "code",
   "execution_count": null,
   "id": "5f6a2a33",
   "metadata": {},
   "outputs": [],
   "source": []
  },
  {
   "cell_type": "code",
   "execution_count": null,
   "id": "cb1dd377",
   "metadata": {},
   "outputs": [],
   "source": []
  },
  {
   "cell_type": "code",
   "execution_count": null,
   "id": "837d9722",
   "metadata": {},
   "outputs": [],
   "source": []
  },
  {
   "cell_type": "code",
   "execution_count": null,
   "id": "2cc42b40",
   "metadata": {},
   "outputs": [],
   "source": []
  },
  {
   "cell_type": "code",
   "execution_count": null,
   "id": "056602c4",
   "metadata": {},
   "outputs": [],
   "source": []
  },
  {
   "cell_type": "code",
   "execution_count": null,
   "id": "5e731279",
   "metadata": {},
   "outputs": [],
   "source": []
  },
  {
   "cell_type": "code",
   "execution_count": null,
   "id": "c0e6f8be",
   "metadata": {},
   "outputs": [],
   "source": []
  },
  {
   "cell_type": "code",
   "execution_count": null,
   "id": "2d420d0c",
   "metadata": {},
   "outputs": [],
   "source": []
  },
  {
   "cell_type": "code",
   "execution_count": null,
   "id": "e4cf7de3",
   "metadata": {},
   "outputs": [],
   "source": []
  },
  {
   "cell_type": "code",
   "execution_count": null,
   "id": "61380491",
   "metadata": {},
   "outputs": [],
   "source": []
  },
  {
   "cell_type": "code",
   "execution_count": null,
   "id": "15207a14",
   "metadata": {},
   "outputs": [],
   "source": []
  }
 ],
 "metadata": {
  "kernelspec": {
   "display_name": "Python 3.10.0 64-bit",
   "language": "python",
   "name": "python3"
  },
  "language_info": {
   "codemirror_mode": {
    "name": "ipython",
    "version": 3
   },
   "file_extension": ".py",
   "mimetype": "text/x-python",
   "name": "python",
   "nbconvert_exporter": "python",
   "pygments_lexer": "ipython3",
   "version": "3.10.0"
  },
  "vscode": {
   "interpreter": {
    "hash": "369f2c481f4da34e4445cda3fffd2e751bd1c4d706f27375911949ba6bb62e1c"
   }
  }
 },
 "nbformat": 4,
 "nbformat_minor": 5
}
