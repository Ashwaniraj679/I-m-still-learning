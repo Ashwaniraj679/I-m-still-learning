{
 "cells": [
  {
   "cell_type": "code",
   "execution_count": 1,
   "id": "925b1c19",
   "metadata": {},
   "outputs": [],
   "source": [
    "import numpy as np\n",
    "import pandas as pd"
   ]
  },
  {
   "cell_type": "code",
   "execution_count": 2,
   "id": "f29870ea",
   "metadata": {},
   "outputs": [
    {
     "data": {
      "text/plain": [
       "{0: <function RandomState.randn>,\n",
       " 1: <function RandomState.randn>,\n",
       " 2: <function RandomState.randn>,\n",
       " 3: <function RandomState.randn>,\n",
       " 4: <function RandomState.randn>,\n",
       " 5: <function RandomState.randn>,\n",
       " 6: <function RandomState.randn>,\n",
       " 7: <function RandomState.randn>,\n",
       " 8: <function RandomState.randn>}"
      ]
     },
     "execution_count": 2,
     "metadata": {},
     "output_type": "execute_result"
    }
   ],
   "source": [
    "data = {i : np.random.randn for i in range(9)}\n",
    "data"
   ]
  },
  {
   "cell_type": "code",
   "execution_count": 3,
   "id": "18118e5d",
   "metadata": {},
   "outputs": [],
   "source": [
    "data?"
   ]
  },
  {
   "cell_type": "code",
   "execution_count": 4,
   "id": "f8553804",
   "metadata": {},
   "outputs": [],
   "source": [
    "def add_numbers(a,b):\n",
    "    \"\"\"\n",
    "    add numbers \n",
    "    returns sum of 2\n",
    "    \"\"\"\n",
    "    return a + b\n",
    "add_numbers??"
   ]
  },
  {
   "cell_type": "code",
   "execution_count": 5,
   "id": "3e290a72",
   "metadata": {},
   "outputs": [],
   "source": [
    "a = np.random.randn(100,100)"
   ]
  },
  {
   "cell_type": "code",
   "execution_count": 6,
   "id": "aed4d2fe",
   "metadata": {},
   "outputs": [
    {
     "name": "stdout",
     "output_type": "stream",
     "text": [
      "415 µs ± 14.1 µs per loop (mean ± std. dev. of 7 runs, 1000 loops each)\n"
     ]
    }
   ],
   "source": [
    "%timeit np.dot(a,a)"
   ]
  },
  {
   "cell_type": "code",
   "execution_count": 7,
   "id": "344dfa86",
   "metadata": {},
   "outputs": [
    {
     "data": {
      "text/plain": [
       "[<matplotlib.lines.Line2D at 0x1708cfd4dc0>]"
      ]
     },
     "execution_count": 7,
     "metadata": {},
     "output_type": "execute_result"
    },
    {
     "data": {
      "image/png": "[encoded data removed]",
      "text/plain": [
       "<Figure size 432x288 with 1 Axes>"
      ]
     },
     "metadata": {
      "needs_background": "light"
     },
     "output_type": "display_data"
    }
   ],
   "source": [
    "#%matplotlib inline\n",
    "import matplotlib.pyplot as plt \n",
    "plt.plot(np.random.randn(50).cumsum())"
   ]
  },
  {
   "cell_type": "code",
   "execution_count": 8,
   "id": "e8073199",
   "metadata": {},
   "outputs": [],
   "source": [
    "##String templating or formatting\n",
    "\n",
    "template = '{0:.3f} {1:s} are worth us ${2:d}'"
   ]
  },
  {
   "cell_type": "code",
   "execution_count": 9,
   "id": "02a0b61f",
   "metadata": {},
   "outputs": [
    {
     "data": {
      "text/plain": [
       "'77.890 Rupees are worth us $2'"
      ]
     },
     "execution_count": 9,
     "metadata": {},
     "output_type": "execute_result"
    }
   ],
   "source": [
    "template.format(77.89, 'Rupees', 2)"
   ]
  },
  {
   "cell_type": "code",
   "execution_count": 10,
   "id": "7e3a016d",
   "metadata": {},
   "outputs": [],
   "source": [
    "from datetime import datetime,date, time"
   ]
  },
  {
   "cell_type": "code",
   "execution_count": 11,
   "id": "4c6d3956",
   "metadata": {},
   "outputs": [],
   "source": [
    "dt = datetime(2023, 10, 21, 20, 30, 22)"
   ]
  },
  {
   "cell_type": "code",
   "execution_count": 12,
   "id": "9d34cee1",
   "metadata": {},
   "outputs": [
    {
     "data": {
      "text/plain": [
       "21"
      ]
     },
     "execution_count": 12,
     "metadata": {},
     "output_type": "execute_result"
    }
   ],
   "source": [
    "dt.day"
   ]
  },
  {
   "cell_type": "code",
   "execution_count": 13,
   "id": "904aaf02",
   "metadata": {},
   "outputs": [
    {
     "data": {
      "text/plain": [
       "30"
      ]
     },
     "execution_count": 13,
     "metadata": {},
     "output_type": "execute_result"
    }
   ],
   "source": [
    "dt.minute"
   ]
  },
  {
   "cell_type": "code",
   "execution_count": 14,
   "id": "86b7d417",
   "metadata": {},
   "outputs": [
    {
     "data": {
      "text/plain": [
       "20"
      ]
     },
     "execution_count": 14,
     "metadata": {},
     "output_type": "execute_result"
    }
   ],
   "source": [
    "dt.hour"
   ]
  },
  {
   "cell_type": "code",
   "execution_count": 15,
   "id": "c5d481c5",
   "metadata": {},
   "outputs": [
    {
     "data": {
      "text/plain": [
       "10"
      ]
     },
     "execution_count": 15,
     "metadata": {},
     "output_type": "execute_result"
    }
   ],
   "source": [
    "dt.month"
   ]
  },
  {
   "cell_type": "code",
   "execution_count": 16,
   "id": "b3828df6",
   "metadata": {},
   "outputs": [
    {
     "data": {
      "text/plain": [
       "datetime.date(2023, 10, 21)"
      ]
     },
     "execution_count": 16,
     "metadata": {},
     "output_type": "execute_result"
    }
   ],
   "source": [
    "dt.date()"
   ]
  },
  {
   "cell_type": "code",
   "execution_count": 17,
   "id": "3561620c",
   "metadata": {},
   "outputs": [
    {
     "data": {
      "text/plain": [
       "datetime.time(20, 30, 22)"
      ]
     },
     "execution_count": 17,
     "metadata": {},
     "output_type": "execute_result"
    }
   ],
   "source": [
    "dt.time()"
   ]
  },
  {
   "cell_type": "code",
   "execution_count": 18,
   "id": "af0fff9f",
   "metadata": {},
   "outputs": [],
   "source": [
    "sum  = 0\n",
    "for i in range(100000):\n",
    "    if i %3 ==0 or i % 5 == 0:\n",
    "        sum += i"
   ]
  },
  {
   "cell_type": "code",
   "execution_count": 19,
   "id": "c7c17024",
   "metadata": {},
   "outputs": [
    {
     "data": {
      "text/plain": [
       "2333316668"
      ]
     },
     "execution_count": 19,
     "metadata": {},
     "output_type": "execute_result"
    }
   ],
   "source": [
    "sum"
   ]
  },
  {
   "cell_type": "code",
   "execution_count": 20,
   "id": "99fc5eda",
   "metadata": {},
   "outputs": [],
   "source": [
    "nested_tuple = (14, 587,476),(415,654,8584),(78,45,965)"
   ]
  },
  {
   "cell_type": "code",
   "execution_count": 21,
   "id": "2a1a0dcd",
   "metadata": {},
   "outputs": [
    {
     "data": {
      "text/plain": [
       "((14, 587, 476), (415, 654, 8584), (78, 45, 965))"
      ]
     },
     "execution_count": 21,
     "metadata": {},
     "output_type": "execute_result"
    }
   ],
   "source": [
    "nested_tuple"
   ]
  },
  {
   "cell_type": "code",
   "execution_count": 22,
   "id": "2af5c960",
   "metadata": {},
   "outputs": [],
   "source": [
    "chut = [47, 45,49]"
   ]
  },
  {
   "cell_type": "code",
   "execution_count": 23,
   "id": "40fe62f3",
   "metadata": {},
   "outputs": [],
   "source": [
    "tup =tuple(chut)"
   ]
  },
  {
   "cell_type": "code",
   "execution_count": 24,
   "id": "9c47f6fe",
   "metadata": {},
   "outputs": [
    {
     "data": {
      "text/plain": [
       "(47, 45, 49)"
      ]
     },
     "execution_count": 24,
     "metadata": {},
     "output_type": "execute_result"
    }
   ],
   "source": [
    "tup"
   ]
  },
  {
   "cell_type": "code",
   "execution_count": 25,
   "id": "bede2228",
   "metadata": {},
   "outputs": [
    {
     "data": {
      "text/plain": [
       "(49, 965)"
      ]
     },
     "execution_count": 25,
     "metadata": {},
     "output_type": "execute_result"
    }
   ],
   "source": [
    "tup[2],nested_tuple[2][2]"
   ]
  },
  {
   "cell_type": "code",
   "execution_count": 26,
   "id": "12d1a66f",
   "metadata": {},
   "outputs": [
    {
     "data": {
      "text/plain": [
       "(47, 45, 49, 47, 45, 49, 47, 45, 49)"
      ]
     },
     "execution_count": 26,
     "metadata": {},
     "output_type": "execute_result"
    }
   ],
   "source": [
    "tup * 3"
   ]
  },
  {
   "cell_type": "code",
   "execution_count": 27,
   "id": "14c7c1e1",
   "metadata": {},
   "outputs": [],
   "source": [
    "all_tuples = nested_tuple[0] + nested_tuple[1] + nested_tuple[2]"
   ]
  },
  {
   "cell_type": "code",
   "execution_count": 28,
   "id": "4281e253",
   "metadata": {},
   "outputs": [
    {
     "data": {
      "text/plain": [
       "(14, 587, 476, 415, 654, 8584, 78, 45, 965)"
      ]
     },
     "execution_count": 28,
     "metadata": {},
     "output_type": "execute_result"
    }
   ],
   "source": [
    "all_tuples"
   ]
  },
  {
   "cell_type": "code",
   "execution_count": 29,
   "id": "56321aa5",
   "metadata": {},
   "outputs": [],
   "source": [
    "#interchanging values of two variables\n",
    "a = 45\n",
    "b = 78\n",
    "b,a = a,b "
   ]
  },
  {
   "cell_type": "code",
   "execution_count": 30,
   "id": "6ac66603",
   "metadata": {},
   "outputs": [
    {
     "data": {
      "text/plain": [
       "(78, 45)"
      ]
     },
     "execution_count": 30,
     "metadata": {},
     "output_type": "execute_result"
    }
   ],
   "source": [
    "a,b"
   ]
  },
  {
   "cell_type": "code",
   "execution_count": 31,
   "id": "931abe77",
   "metadata": {},
   "outputs": [],
   "source": [
    "#unpacking values\n",
    "values = 12, 45 , 78, 69, 35, 99\n",
    "a,b,c, *left = values"
   ]
  },
  {
   "cell_type": "code",
   "execution_count": 32,
   "id": "8b6c3e52",
   "metadata": {},
   "outputs": [
    {
     "data": {
      "text/plain": [
       "(12, 45, 78)"
      ]
     },
     "execution_count": 32,
     "metadata": {},
     "output_type": "execute_result"
    }
   ],
   "source": [
    "a,b,c"
   ]
  },
  {
   "cell_type": "code",
   "execution_count": 33,
   "id": "cc922f22",
   "metadata": {},
   "outputs": [
    {
     "data": {
      "text/plain": [
       "[69, 35, 99]"
      ]
     },
     "execution_count": 33,
     "metadata": {},
     "output_type": "execute_result"
    }
   ],
   "source": [
    "left"
   ]
  },
  {
   "cell_type": "code",
   "execution_count": 34,
   "id": "f08ff0cf",
   "metadata": {},
   "outputs": [],
   "source": [
    "#extending lists\n",
    "l = ['var','tar','scar','far']"
   ]
  },
  {
   "cell_type": "code",
   "execution_count": 35,
   "id": "ac8a9884",
   "metadata": {},
   "outputs": [],
   "source": [
    "ex = ['car','war','jar','par']\n",
    "l.extend(ex)"
   ]
  },
  {
   "cell_type": "code",
   "execution_count": 36,
   "id": "978aa826",
   "metadata": {},
   "outputs": [
    {
     "data": {
      "text/plain": [
       "['var', 'tar', 'scar', 'far', 'car', 'war', 'jar', 'par']"
      ]
     },
     "execution_count": 36,
     "metadata": {},
     "output_type": "execute_result"
    }
   ],
   "source": [
    "l"
   ]
  },
  {
   "cell_type": "code",
   "execution_count": 37,
   "id": "8689bee8",
   "metadata": {},
   "outputs": [],
   "source": [
    "l.sort()"
   ]
  },
  {
   "cell_type": "code",
   "execution_count": 38,
   "id": "44535efb",
   "metadata": {},
   "outputs": [
    {
     "data": {
      "text/plain": [
       "['car', 'far', 'jar', 'par', 'scar', 'tar', 'var', 'war']"
      ]
     },
     "execution_count": 38,
     "metadata": {},
     "output_type": "execute_result"
    }
   ],
   "source": [
    "l"
   ]
  },
  {
   "cell_type": "code",
   "execution_count": 39,
   "id": "f2befe6f",
   "metadata": {},
   "outputs": [],
   "source": [
    "#In Python, you can use slice assignment to replace a sub-sequence \n",
    "#within a list or tuple with a new sequence.\n",
    "seq = [7, 2, 3, 7, 5, 6, 0, 1]"
   ]
  },
  {
   "cell_type": "code",
   "execution_count": 40,
   "id": "676784d4",
   "metadata": {},
   "outputs": [],
   "source": [
    "seq[3:4] = [2,1]"
   ]
  },
  {
   "cell_type": "code",
   "execution_count": 41,
   "id": "fd386296",
   "metadata": {},
   "outputs": [
    {
     "data": {
      "text/plain": [
       "[7, 2, 3, 2, 1, 5, 6, 0, 1]"
      ]
     },
     "execution_count": 41,
     "metadata": {},
     "output_type": "execute_result"
    }
   ],
   "source": [
    "seq"
   ]
  },
  {
   "cell_type": "code",
   "execution_count": 42,
   "id": "491c01dc",
   "metadata": {},
   "outputs": [
    {
     "name": "stdout",
     "output_type": "stream",
     "text": [
      "0 14\n",
      "1 587\n",
      "2 476\n",
      "3 415\n",
      "4 654\n",
      "5 8584\n",
      "6 78\n",
      "7 45\n",
      "8 965\n"
     ]
    }
   ],
   "source": [
    "#enumerate \n",
    "for i , value in enumerate(all_tuples):\n",
    "    print(i,value)"
   ]
  },
  {
   "cell_type": "code",
   "execution_count": 43,
   "id": "b43c2a17",
   "metadata": {},
   "outputs": [
    {
     "data": {
      "text/plain": [
       "[('goo', 'roo'), ('too', 'moo'), ('soo', 'zoo')]"
      ]
     },
     "execution_count": 43,
     "metadata": {},
     "output_type": "execute_result"
    }
   ],
   "source": [
    "#zip “pairs” up the elements of a number of lists, tuples, or other sequences to create a\n",
    "#list of tuples\n",
    "seq1 = ['goo','too','soo']\n",
    "seq2 = ['roo','moo','zoo']\n",
    "zipped = zip(seq1,seq2)\n",
    "list(zipped)"
   ]
  },
  {
   "cell_type": "code",
   "execution_count": 44,
   "id": "f71a2111",
   "metadata": {},
   "outputs": [
    {
     "data": {
      "text/plain": [
       "[('goo', 'roo', 'true'), ('too', 'moo', 'false'), ('soo', 'zoo', 'none')]"
      ]
     },
     "execution_count": 44,
     "metadata": {},
     "output_type": "execute_result"
    }
   ],
   "source": [
    "seq3 = ['true','false','none']\n",
    "list(zip(seq1,seq2,seq3))"
   ]
  },
  {
   "cell_type": "code",
   "execution_count": 45,
   "id": "9502c5ac",
   "metadata": {},
   "outputs": [
    {
     "name": "stdout",
     "output_type": "stream",
     "text": [
      "0: goo, roo\n",
      "1: too, moo\n",
      "2: soo, zoo\n"
     ]
    }
   ],
   "source": [
    "#using zip with enumerate \n",
    "for i,(a,b) in enumerate(zip(seq1,seq2)):\n",
    "    print('{}: {}, {}'.format(i,a,b))"
   ]
  },
  {
   "cell_type": "code",
   "execution_count": 46,
   "id": "c05e33a2",
   "metadata": {},
   "outputs": [],
   "source": [
    "#unzipping \n",
    "Classmates = [('Ravi','Sharma'), ('Abhinav','Singh'),('Manoj','Kumar'),('Aditya', 'Raj')]\n",
    "first_name,last_name = zip(*Classmates)"
   ]
  },
  {
   "cell_type": "code",
   "execution_count": 47,
   "id": "becd7d15",
   "metadata": {},
   "outputs": [
    {
     "data": {
      "text/plain": [
       "(('Ravi', 'Abhinav', 'Manoj', 'Aditya'), ('Sharma', 'Singh', 'Kumar', 'Raj'))"
      ]
     },
     "execution_count": 47,
     "metadata": {},
     "output_type": "execute_result"
    }
   ],
   "source": [
    "first_name,last_name"
   ]
  },
  {
   "cell_type": "code",
   "execution_count": 48,
   "id": "38911d3a",
   "metadata": {},
   "outputs": [],
   "source": [
    "#Creating dicts from sequences\n",
    "mapping = {}\n",
    "for i,values in enumerate(all_tuples):\n",
    "    mapping[i]= values"
   ]
  },
  {
   "cell_type": "code",
   "execution_count": 49,
   "id": "9a025d90",
   "metadata": {},
   "outputs": [
    {
     "data": {
      "text/plain": [
       "{0: 14, 1: 587, 2: 476, 3: 415, 4: 654, 5: 8584, 6: 78, 7: 45, 8: 965}"
      ]
     },
     "execution_count": 49,
     "metadata": {},
     "output_type": "execute_result"
    }
   ],
   "source": [
    "mapping"
   ]
  },
  {
   "cell_type": "code",
   "execution_count": 50,
   "id": "99634392",
   "metadata": {},
   "outputs": [],
   "source": [
    "#.setdefault\n",
    "words = ['sample','sushi','sun','bar','bat','basket','car','cake','harmony','hard']\n",
    "by_letter = {}\n",
    "\"\"\"\n",
    "for word in words:\n",
    "    digit = word[0]\n",
    "    if digit not in by_letter:\n",
    "        by_letter[digit] = [word]\n",
    "    else:\n",
    "        by_letter[digit].append(word)\n",
    "\"\"\"\n",
    "#another way of using this is to use .setdefault method\n",
    "for word in words:\n",
    "    letter = word[0]\n",
    "    by_letter.setdefault(letter, []).append(word)"
   ]
  },
  {
   "cell_type": "code",
   "execution_count": 51,
   "id": "ad23abbe",
   "metadata": {},
   "outputs": [
    {
     "data": {
      "text/plain": [
       "{'s': ['sample', 'sushi', 'sun'],\n",
       " 'b': ['bar', 'bat', 'basket'],\n",
       " 'c': ['car', 'cake'],\n",
       " 'h': ['harmony', 'hard']}"
      ]
     },
     "execution_count": 51,
     "metadata": {},
     "output_type": "execute_result"
    }
   ],
   "source": [
    "by_letter"
   ]
  },
  {
   "cell_type": "code",
   "execution_count": null,
   "id": "8dd698cf",
   "metadata": {},
   "outputs": [],
   "source": []
  },
  {
   "cell_type": "code",
   "execution_count": null,
   "id": "4f6d237b",
   "metadata": {},
   "outputs": [],
   "source": []
  },
  {
   "cell_type": "code",
   "execution_count": null,
   "id": "95d47b29",
   "metadata": {},
   "outputs": [],
   "source": []
  },
  {
   "cell_type": "code",
   "execution_count": null,
   "id": "e350be82",
   "metadata": {},
   "outputs": [],
   "source": []
  },
  {
   "cell_type": "code",
   "execution_count": null,
   "id": "9b4d6a61",
   "metadata": {},
   "outputs": [],
   "source": []
  },
  {
   "cell_type": "code",
   "execution_count": null,
   "id": "c297471f",
   "metadata": {},
   "outputs": [],
   "source": []
  },
  {
   "cell_type": "code",
   "execution_count": null,
   "id": "fdc69865",
   "metadata": {},
   "outputs": [],
   "source": []
  },
  {
   "cell_type": "code",
   "execution_count": null,
   "id": "00420f6e",
   "metadata": {},
   "outputs": [],
   "source": []
  },
  {
   "cell_type": "code",
   "execution_count": null,
   "id": "d217f6a1",
   "metadata": {},
   "outputs": [],
   "source": []
  },
  {
   "cell_type": "code",
   "execution_count": null,
   "id": "1a538c8d",
   "metadata": {},
   "outputs": [],
   "source": []
  },
  {
   "cell_type": "code",
   "execution_count": null,
   "id": "87eca0da",
   "metadata": {},
   "outputs": [],
   "source": []
  },
  {
   "cell_type": "code",
   "execution_count": null,
   "id": "906a673d",
   "metadata": {},
   "outputs": [],
   "source": []
  },
  {
   "cell_type": "code",
   "execution_count": null,
   "id": "160fad3a",
   "metadata": {},
   "outputs": [],
   "source": []
  },
  {
   "cell_type": "code",
   "execution_count": null,
   "id": "dedd6cf7",
   "metadata": {},
   "outputs": [],
   "source": []
  },
  {
   "cell_type": "code",
   "execution_count": null,
   "id": "4b070e96",
   "metadata": {},
   "outputs": [],
   "source": []
  },
  {
   "cell_type": "code",
   "execution_count": null,
   "id": "ea563c7d",
   "metadata": {},
   "outputs": [],
   "source": []
  },
  {
   "cell_type": "code",
   "execution_count": null,
   "id": "33dc14f1",
   "metadata": {},
   "outputs": [],
   "source": []
  },
  {
   "cell_type": "code",
   "execution_count": null,
   "id": "cc3887f2",
   "metadata": {},
   "outputs": [],
   "source": []
  },
  {
   "cell_type": "code",
   "execution_count": null,
   "id": "f136a83c",
   "metadata": {},
   "outputs": [],
   "source": []
  }
 ],
 "metadata": {
  "kernelspec": {
   "display_name": "Python 3 (ipykernel)",
   "language": "python",
   "name": "python3"
  },
  "language_info": {
   "codemirror_mode": {
    "name": "ipython",
    "version": 3
   },
   "file_extension": ".py",
   "mimetype": "text/x-python",
   "name": "python",
   "nbconvert_exporter": "python",
   "pygments_lexer": "ipython3",
   "version": "3.10.0"
  }
 },
 "nbformat": 4,
 "nbformat_minor": 5
}
